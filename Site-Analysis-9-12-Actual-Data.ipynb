{
 "cells": [
  {
   "cell_type": "code",
   "execution_count": null,
   "metadata": {
    "collapsed": true
   },
   "outputs": [],
   "source": [
    "# This one uses the real data"
   ]
  },
  {
   "cell_type": "code",
   "execution_count": 5,
   "metadata": {
    "collapsed": true
   },
   "outputs": [],
   "source": [
    "import pandas as pd\n",
    "import os\n",
    "import numpy as np\n",
    "import matplotlib.pyplot as plt\n",
    "import numpy.matlib as M\n",
    "from numpy.matlib import rand,zeros,ones,empty,eye\n",
    "np.set_printoptions(precision=3)"
   ]
  },
  {
   "cell_type": "code",
   "execution_count": 2,
   "metadata": {
    "collapsed": true
   },
   "outputs": [],
   "source": [
    "%matplotlib inline\n",
    "plt.style.use('ggplot')"
   ]
  },
  {
   "cell_type": "code",
   "execution_count": 10,
   "metadata": {
    "collapsed": false
   },
   "outputs": [],
   "source": [
    "# Import actual data\n",
    "raw = np.genfromtxt('site_data_raw.csv', delimiter = ',')"
   ]
  },
  {
   "cell_type": "code",
   "execution_count": 13,
   "metadata": {
    "collapsed": false
   },
   "outputs": [
    {
     "data": {
      "text/plain": [
       "(20, 11)"
      ]
     },
     "execution_count": 13,
     "metadata": {},
     "output_type": "execute_result"
    }
   ],
   "source": [
    "raw.shape"
   ]
  },
  {
   "cell_type": "code",
   "execution_count": 22,
   "metadata": {
    "collapsed": true
   },
   "outputs": [],
   "source": [
    "# Import weights, use as np.dot(A,wgts)\n",
    "eyes = eye((11)).A\n",
    "arr = np.array([20., 16., 15., 15., 8., 5., 5., 5., 4., 4., 3.])/100\n",
    "wgts = eyes*arr"
   ]
  },
  {
   "cell_type": "code",
   "execution_count": 19,
   "metadata": {
    "collapsed": false
   },
   "outputs": [],
   "source": [
    "# SETUP\n",
    "N=100 # number of simulations is N-1, referred to as N\n",
    "results = np.copy(raw)\n",
    "\n",
    "# N-1 randomizations of raw, create 20x11xN matrix\n",
    "# results of kth simulation with results[:,:,k-1]\n",
    "# Random Normal Permuation with mu=x, sigma=1\n",
    "for i in range(0,N):\n",
    "    cpy = np.copy(raw)\n",
    "    # If < 0 set to 0, ,if > 10 set to 10\n",
    "    for x in np.nditer(cpy, op_flags=['readwrite']):\n",
    "        # random permutation = mu + sigma * randn\n",
    "        x[...] = x + M.randn(1,1)*1\n",
    "        if x>10: x[...] = 10\n",
    "        if x<0: x[...] = 0\n",
    "    results = np.dstack((results,cpy))\n",
    "    "
   ]
  },
  {
   "cell_type": "code",
   "execution_count": 25,
   "metadata": {
    "collapsed": false
   },
   "outputs": [],
   "source": [
    "# Check shape and save \n",
    "results.shape\n",
    "np.save('results',results)"
   ]
  },
  {
   "cell_type": "code",
   "execution_count": null,
   "metadata": {
    "collapsed": true
   },
   "outputs": [],
   "source": []
  },
  {
   "cell_type": "markdown",
   "metadata": {},
   "source": [
    "### Analysis"
   ]
  },
  {
   "cell_type": "code",
   "execution_count": null,
   "metadata": {
    "collapsed": true
   },
   "outputs": [],
   "source": []
  }
 ],
 "metadata": {
  "kernelspec": {
   "display_name": "Python [Root]",
   "language": "python",
   "name": "Python [Root]"
  },
  "language_info": {
   "codemirror_mode": {
    "name": "ipython",
    "version": 2
   },
   "file_extension": ".py",
   "mimetype": "text/x-python",
   "name": "python",
   "nbconvert_exporter": "python",
   "pygments_lexer": "ipython2",
   "version": "2.7.12"
  }
 },
 "nbformat": 4,
 "nbformat_minor": 0
}
