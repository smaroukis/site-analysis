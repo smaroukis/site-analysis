{
 "cells": [
  {
   "cell_type": "code",
   "execution_count": 1,
   "metadata": {
    "collapsed": true
   },
   "outputs": [],
   "source": [
    "# see github.com/smaroukis/site-analysis\n",
    "# don't forget double (()) 's for numpy operations and stacking\n",
    "\n",
    "import pandas as pd\n",
    "import numpy as np\n",
    "import matplotlib.pyplot as plt\n",
    "import numpy.matlib as M\n",
    "from numpy.matlib import rand,zeros,ones,empty,eye\n",
    "np.set_printoptions(precision=3)\n",
    "%matplotlib inline\n",
    "plt.style.use('ggplot')"
   ]
  },
  {
   "cell_type": "markdown",
   "metadata": {},
   "source": [
    "### Importing Raw Data and Setup"
   ]
  },
  {
   "cell_type": "code",
   "execution_count": null,
   "metadata": {
    "collapsed": true
   },
   "outputs": [],
   "source": [
    "# Import Actual Data\n",
    "# CSV has Criteria=Columns and Site Name=Rows\n",
    "raw = np.genfromtxt('site_data_raw.csv', delimiter = ',')\n",
    "# List Sites in Order (not in .csv)\n",
    "site_list = ['Saginaw Malleable','Pontiac North Industrial','Linden Road','Bay City Powertrain','Coldwater Road','Davison Road','Greenpoint','Hemphill','Saginaw Malleable Peninsula','Van Buren','Buick City','Flint West (Kettering)','Danville','Allison Gas Turbine','Framingham','Massena','Salina', 'Tonawanda','Elyria','Toledo']"
   ]
  },
  {
   "cell_type": "code",
   "execution_count": 2,
   "metadata": {
    "collapsed": true
   },
   "outputs": [],
   "source": [
    "# Setup for Testing (using ones matrix) \n",
    "# (as array = matrix.A)\n",
    "# Create Column Array of Ones\n",
    "onemat = ones((10)).A.T\n",
    "# Create Array with Columns as 1s, 2s, 3s, etc\n",
    "smpat = np.hstack((onemat, 2*onemat, 3*onemat, 4*onemat, 5*onemat, 6*onemat, 7*onemat, 8*onemat, 9*onemat, 10*onemat))\n",
    "# Initialize results matrix\n",
    "results = zeros((10,10)).A"
   ]
  },
  {
   "cell_type": "code",
   "execution_count": null,
   "metadata": {
    "collapsed": true
   },
   "outputs": [],
   "source": [
    "# Setup for Actual Analysis (using weights)\n",
    "# Import weights, apply with np.dot(A,wgts) where A is the permutated matrix\n",
    "eyes = eye((11)).A\n",
    "arr = np.array([20., 16., 15., 15., 8., 5., 5., 5., 4., 4., 3.])/100\n",
    "wgts = eyes*arr"
   ]
  },
  {
   "cell_type": "markdown",
   "metadata": {},
   "source": [
    "### N=100 Random Normal Permutations"
   ]
  },
  {
   "cell_type": "code",
   "execution_count": null,
   "metadata": {
    "collapsed": true
   },
   "outputs": [],
   "source": [
    "\n",
    "\n",
    "results = np.copy(raw) # Copy the original matrix to permute\n",
    "\n",
    "N = 101\n",
    "# N randomizations (of master ranking), creating 10x10xN matrix\n",
    "# get results of kth simulation with results[:,:,k-1]\n",
    "for i in range(0,N):\n",
    "    cpy = np.copy(raw)\n",
    "    # Permute\n",
    "    # If < 0 set to 0, if > 10 set to 10\n",
    "    for x in np.nditer(cpy, op_flags=['readwrite']):\n",
    "        # Random Normal Permutation = mu + sigma * randn\n",
    "        x[...] = x + M.randn(1,1)*1 \n",
    "        if x>10: x[...] = 10\n",
    "        if x<0: x[...] = 0\n",
    "    results = np.dstack((results,cpy))\n",
    "\n",
    "# Check shape and save \n",
    "results.shape\n",
    "np.save('results',results)"
   ]
  },
  {
   "cell_type": "markdown",
   "metadata": {},
   "source": [
    "### Analysis Part I"
   ]
  },
  {
   "cell_type": "code",
   "execution_count": null,
   "metadata": {
    "collapsed": true
   },
   "outputs": [],
   "source": [
    "# Import Results\n",
    "results = np.load('results.npy')"
   ]
  },
  {
   "cell_type": "code",
   "execution_count": null,
   "metadata": {
    "collapsed": true
   },
   "outputs": [],
   "source": [
    "# Score (on 1-10)\n",
    "score_list = []\n",
    "for i in range(0,N):\n",
    "    score_list.append(pd.Series(data=np.sum(np.dot(results[:,:,i], wgts), axis=1), index = [k for k in site_list]))\n",
    "scores = pd.DataFrame(score_list)\n",
    "\n",
    "# Ranking (on 1-#Sites)\n",
    "rank_list = []\n",
    "for i in range(0,N):\n",
    "    rank_list.append(pd.Series(data=np.sum(np.dot(results[:,:,i], wgts), axis=1), index = [k for k in site_list]).rank(ascending = False))\n",
    "ranks = pd.DataFrame(rank_list)"
   ]
  },
  {
   "cell_type": "code",
   "execution_count": null,
   "metadata": {
    "collapsed": true
   },
   "outputs": [],
   "source": [
    "# Plotting\n",
    "# Plot as 10 historgrams of distribution of SCORES \n",
    "scores.boxplot(vert=0)\n",
    "plt.tight_layout()\n",
    "plt.xlabel('Score')\n",
    "plt.title('Distribution of Scores for $N=100$, $\\sigma = 1$')\n",
    "plt.savefig('score_boxplot.pdf')\n",
    "plt.show()\n",
    "\n",
    "\n",
    "# Plot as 11 histograms of distribution of RANKINGS\n",
    "ranks.boxplot(vert=0)\n",
    "plt.title('Distribution of Rankings for $N=100$, $\\sigma = 1$')\n",
    "plt.xlabel('Ranking')\n",
    "plt.xticks([i for i in range(1,21)], rotation = 'vertical')\n",
    "plt.tight_layout()\n",
    "plt.savefig('rank_boxplot.pdf')\n",
    "plt.show()"
   ]
  },
  {
   "cell_type": "markdown",
   "metadata": {},
   "source": [
    "### Analysis Part II"
   ]
  },
  {
   "cell_type": "code",
   "execution_count": null,
   "metadata": {
    "collapsed": true
   },
   "outputs": [],
   "source": [
    "results = np.load('results.npy')"
   ]
  },
  {
   "cell_type": "code",
   "execution_count": null,
   "metadata": {
    "collapsed": true
   },
   "outputs": [],
   "source": [
    "#### Use for BaseCase\n",
    "\n",
    "qualifier = 'BaseCase'\n",
    "t2 = '$N=100$, $\\sigma = 1$'\n",
    "def plot_res(_type, _qualifiertext, _arr, _n, _wgts, _site_list):\n",
    "    # _type is 'score' or 'rank'\n",
    "    score_list = []\n",
    "    \n",
    "    if _type == 'score':\n",
    "        for i in range(0, _n):\n",
    "            score_list.append(pd.Series(data=np.sum(np.dot(_arr[:, :, i], _wgts), axis=1), index=[k for k in _site_list]))\n",
    "    if _type == 'rank':\n",
    "        for i in range(0, _n):\n",
    "            score_list.append(pd.Series(data=np.sum(np.dot(_arr[:, :, i], _wgts), axis=1), index=[k for k in _site_list]).rank(ascending=False))\n",
    "            \n",
    "    scores = pd.DataFrame(score_list)\n",
    "\n",
    "    # Plot as 10 histograms of distribution of scores\n",
    "    flierprops = dict(marker='.', markerfacecolor='red', alpha=0.6, markersize=6, markeredgecolor='none')\n",
    "    bp = scores.boxplot(vert=0, flierprops=flierprops)\n",
    "    plt.setp(bp['boxes'], color='red')\n",
    "    plt.setp(bp['whiskers'],color='red')\n",
    "    plt.setp(bp['fliers'],color='red')\n",
    "    plt.tight_layout()\n",
    "    plt.xlabel('Score')\n",
    "    plt.title('Distribution of ' + _type + ' (' + _qualifiertext + ')')\n",
    "    plt.savefig(r'results/' + _qualifiertext + r'_' + _type + '.png', transparent=True, dpi=1000)\n",
    "    plt.show()\n",
    "    \n",
    "    return scores\n",
    "\n",
    "basescores = plot_res('score', qualifier, results, N, wgts, site_list)\n",
    "baseranks = plot_res('rank', qualifier, results, N, wgts, site_list)"
   ]
  },
  {
   "cell_type": "code",
   "execution_count": null,
   "metadata": {
    "collapsed": true
   },
   "outputs": [],
   "source": [
    "## Incentives\n",
    "\n",
    "# Set all of the (20, c1, 101) to \"5\" .. or 0 .. or 10?\n",
    "results_uni = np.copy(results)\n",
    "results_uni[:,0,:]=5 # 0 index is Incentives\n",
    "qualifier = 'Incentives'"
   ]
  },
  {
   "cell_type": "code",
   "execution_count": null,
   "metadata": {
    "collapsed": true
   },
   "outputs": [],
   "source": [
    "#### Permitting\n",
    "\n",
    "# Set all of the (20, c1, 101) to \"5\" .. or 0 .. or 10?\n",
    "results_uni = np.copy(results)\n",
    "results_uni[:,1,:]=5 # 1 index is Permitting\n",
    "qualifier = 'Permitting'"
   ]
  },
  {
   "cell_type": "code",
   "execution_count": null,
   "metadata": {
    "collapsed": true
   },
   "outputs": [],
   "source": [
    "#### Substation\n",
    "\n",
    "# Set all of the (20, c1, 101) to \"5\" .. or 0 .. or 10?\n",
    "results_uni = np.copy(results)\n",
    "results_uni[:,2,:]=5 # 2 index is Substation\n",
    "qualifier = 'Substation'"
   ]
  },
  {
   "cell_type": "code",
   "execution_count": null,
   "metadata": {
    "collapsed": true
   },
   "outputs": [],
   "source": [
    "#### Evironmental\n",
    "\n",
    "# Set all of the (20, c1, 101) to \"5\" .. or 0 .. or 10?\n",
    "results_uni = np.copy(results)\n",
    "results_uni[:,3,:]=5 # 3 index is Enviro\n",
    "qualifier = 'Environmental'"
   ]
  },
  {
   "cell_type": "code",
   "execution_count": null,
   "metadata": {
    "collapsed": true
   },
   "outputs": [],
   "source": [
    "# Run one of the above criteria cells first\n",
    "\n",
    "def plot_res(_type, _qualifiertext, _arr, _n, _wgts, _site_list):\n",
    "    # _type is 'score' or 'rank'\n",
    "    score_list = []\n",
    "    \n",
    "    if _type == 'score':\n",
    "        for i in range(0, _n):\n",
    "            score_list.append(pd.Series(data=np.sum(np.dot(_arr[:, :, i], _wgts), axis=1), index=[k for k in _site_list]))\n",
    "    if _type == 'rank':\n",
    "        for i in range(0, _n):\n",
    "            score_list.append(pd.Series(data=np.sum(np.dot(_arr[:, :, i], _wgts), axis=1), index=[k for k in _site_list]).rank(ascending=False))        \n",
    "    scores = pd.DataFrame(score_list)\n",
    "    # Plot as 10 historgrams of distribution of scores\n",
    "    flierprops = dict(marker='.', markerfacecolor='blue', alpha=0.6, markersize=6, markeredgecolor='none')\n",
    "    bp = scores.boxplot(vert=0, flierprops=flierprops)\n",
    "    plt.setp(bp['boxes'], color='blue')\n",
    "    plt.setp(bp['whiskers'],color='blue')\n",
    "    plt.setp(bp['fliers'],color='blue')\n",
    "    plt.setp(bp['medians'], color='blue')\n",
    "    plt.tight_layout()\n",
    "    plt.xlabel('Score')\n",
    "    plt.title('Distribution of ' + _type + ' (' + _qualifiertext + ')')\n",
    "    plt.savefig(r'results/' + _qualifiertext + r'_' + _type + '.png', transparent=True, dpi=1000)\n",
    "    plt.show()\n",
    "    \n",
    "    return scores\n",
    "\n",
    "scores = plot_res('score', qualifier, results_uni, N, wgts, site_list)\n",
    "ranks = plot_res('rank', qualifier, results_uni, N, wgts, site_list)\n",
    "    "
   ]
  }
 ],
 "metadata": {
  "kernelspec": {
   "display_name": "Python 2",
   "language": "python",
   "name": "python2"
  },
  "language_info": {
   "codemirror_mode": {
    "name": "ipython",
    "version": 2
   },
   "file_extension": ".py",
   "mimetype": "text/x-python",
   "name": "python",
   "nbconvert_exporter": "python",
   "pygments_lexer": "ipython2",
   "version": "2.7.12"
  }
 },
 "nbformat": 4,
 "nbformat_minor": 1
}
