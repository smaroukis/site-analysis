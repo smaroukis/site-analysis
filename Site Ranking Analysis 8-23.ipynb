{
 "cells": [
  {
   "cell_type": "code",
   "execution_count": 1,
   "metadata": {
    "collapsed": true
   },
   "outputs": [],
   "source": [
    "# Added to github on 9/5"
   ]
  },
  {
   "cell_type": "code",
   "execution_count": 2,
   "metadata": {
    "collapsed": true
   },
   "outputs": [],
   "source": [
    "# Shortcomings/Assumptions: higher values realistically would not have the same permutation distribution as middle ones, \n",
    "# i.e. it would take dramatic changes realistically esp. politically to move from a 9 to a 10. Would be like California changing from \n",
    "# 50% to 60% renewable"
   ]
  },
  {
   "cell_type": "code",
   "execution_count": 3,
   "metadata": {
    "collapsed": false
   },
   "outputs": [
    {
     "ename": "NameError",
     "evalue": "name 'np' is not defined",
     "output_type": "error",
     "traceback": [
      "\u001b[1;31m---------------------------------------------------------------------------\u001b[0m",
      "\u001b[1;31mNameError\u001b[0m                                 Traceback (most recent call last)",
      "\u001b[1;32m<ipython-input-3-339ecb22a5c4>\u001b[0m in \u001b[0;36m<module>\u001b[1;34m()\u001b[0m\n\u001b[1;32m----> 1\u001b[1;33m \u001b[1;32mfor\u001b[0m \u001b[0mi\u001b[0m \u001b[1;32min\u001b[0m \u001b[0mnp\u001b[0m\u001b[1;33m.\u001b[0m\u001b[0mnditer\u001b[0m\u001b[1;33m(\u001b[0m\u001b[0msmpat\u001b[0m\u001b[1;33m)\u001b[0m\u001b[1;33m:\u001b[0m\u001b[1;33m\u001b[0m\u001b[0m\n\u001b[0m\u001b[0;32m      2\u001b[0m     \u001b[1;32mprint\u001b[0m \u001b[0mi\u001b[0m\u001b[1;33m\u001b[0m\u001b[0m\n\u001b[0;32m      3\u001b[0m \u001b[1;33m\u001b[0m\u001b[0m\n\u001b[0;32m      4\u001b[0m \u001b[1;31m# LEARNED: don't forget double (()) 's for numpy operations and stacking\u001b[0m\u001b[1;33m\u001b[0m\u001b[1;33m\u001b[0m\u001b[0m\n",
      "\u001b[1;31mNameError\u001b[0m: name 'np' is not defined"
     ]
    }
   ],
   "source": [
    "for i in np.nditer(smpat):\n",
    "    print i\n",
    "    \n",
    "# LEARNED: don't forget double (()) 's for numpy operations and stacking"
   ]
  },
  {
   "cell_type": "code",
   "execution_count": 5,
   "metadata": {
    "collapsed": true
   },
   "outputs": [],
   "source": [
    "import pandas as pd\n",
    "import numpy as np\n",
    "import matplotlib.pyplot as plt\n",
    "import numpy.matlib as M\n",
    "from numpy.matlib import rand,zeros,ones,empty,eye\n",
    "np.set_printoptions(precision=3)"
   ]
  },
  {
   "cell_type": "code",
   "execution_count": 10,
   "metadata": {
    "collapsed": false
   },
   "outputs": [
    {
     "name": "stdout",
     "output_type": "stream",
     "text": [
      "CPU times: user 0 ns, sys: 0 ns, total: 0 ns\n",
      "Wall time: 3.1 µs\n"
     ]
    }
   ],
   "source": [
    "# as array = matrix.A\n",
    "\n",
    "# Create a Sample Matrix 10 x 10 from mu + std*randn\n",
    "5+M.randn((10,10))*1\n",
    "\n",
    "\n",
    "# One Loop\n",
    "\n",
    "# Print Loop number n\n",
    "\n",
    "# How are we permuting the matrix?\n",
    "# uniform, normally, etc\n",
    "\n",
    "# Save the matrix for inspection\n",
    "\n",
    "# Calculate Rankings and Save\n",
    "# save as ?? \n",
    "\n",
    "\n",
    "# Create Column Array of Ones\n",
    "onemat = ones((10)).A.T\n",
    "# Create Array with Columns as 1s, 2s, 3s, etc\n",
    "smpat = np.hstack((onemat, 2*onemat, 3*onemat, 4*onemat, 5*onemat, 6*onemat, 7*onemat, 8*onemat, 9*onemat, 10*onemat))\n",
    "# Initialize results matrix\n",
    "results = zeros((10,10)).A\n",
    "\n",
    "%time\n",
    "results = np.copy(smpat)\n",
    "N = 100\n",
    "# N randomizations (of master ranking), creating 10x10xN matrix\n",
    "# get results of kth simulation with results[:,:,k-1]\n",
    "# (Random Normal Permutation)\n",
    "for i in range(1,N):\n",
    "    cpy = np.copy(smpat)\n",
    "    # Permute\n",
    "    # If < 0 set to 0, if > 10 set to 10\n",
    "    for x in np.nditer(cpy, op_flags=['readwrite']):\n",
    "        # random samples = mu + sigma * randn\n",
    "        x[...] = x + M.randn(1,1)*2\n",
    "        if x>10: x[...] = 10\n",
    "        if x<0: x[...] = 0\n",
    "    results = np.dstack((results,cpy))\n",
    "\n",
    "\n",
    "# Gives Resulting Matrix ()\n",
    "results.shape\n",
    "results[:,:,0] \n",
    "\n",
    "\n",
    "# TODO: if each site is a ROW, average across the rows for the final value\n",
    "\n",
    "\n",
    "results[:,:,0].mean()\n",
    "# Apply along axis=1 i.e. columns\n",
    "np.apply_along_axis(lambda x: x.mean(), 1, results[:,:,0])\n",
    "# now we have array of length = 10 with averages for each row\n",
    "\n",
    "# But if we want to just look at one site/row:\n",
    "# array of averages for row 1\n",
    "site1 = results[0,:,:] # 10x100 array\n",
    "# Mean along cols gives average score on \"features\" (not desirable)\n",
    "np.apply_along_axis(lambda x: x.mean(), 1, site1)\n",
    "# Mean along rows gives average total score for each simulation (sort of desirable)\n",
    "site1scores = np.apply_along_axis(lambda x: x.mean(), 0, site1)\n",
    "# First, plot the change in score over simulations"
   ]
  },
  {
   "cell_type": "code",
   "execution_count": 14,
   "metadata": {
    "collapsed": false
   },
   "outputs": [],
   "source": [
    "k = range(0,100)"
   ]
  },
  {
   "cell_type": "code",
   "execution_count": 18,
   "metadata": {
    "collapsed": false
   },
   "outputs": [],
   "source": [
    "plt.plot(k, site1scores)\n",
    "plt.show()\n",
    "# But really we want the distribution of scores"
   ]
  },
  {
   "cell_type": "code",
   "execution_count": 22,
   "metadata": {
    "collapsed": false
   },
   "outputs": [],
   "source": [
    "plt.boxplot(site1scores)\n",
    "plt.show()\n",
    "# But we really want the ranking\n"
   ]
  },
  {
   "cell_type": "code",
   "execution_count": 23,
   "metadata": {
    "collapsed": false
   },
   "outputs": [
    {
     "data": {
      "text/plain": [
       "array([ 1.197,  2.163,  2.812,  4.088,  5.076,  5.752,  6.883,  7.797,\n",
       "        8.739,  9.14 ])"
      ]
     },
     "execution_count": 23,
     "metadata": {},
     "output_type": "execute_result"
    }
   ],
   "source": [
    "np.apply_along_axis(lambda x: x.mean(), 1, site1)"
   ]
  },
  {
   "cell_type": "code",
   "execution_count": 37,
   "metadata": {
    "collapsed": false
   },
   "outputs": [],
   "source": [
    "# Let's use one to get the ranking of the average scores\n",
    "scores1 = np.apply_along_axis(lambda x: x.mean(), 1, results[:,:,1])"
   ]
  },
  {
   "cell_type": "code",
   "execution_count": 42,
   "metadata": {
    "collapsed": false
   },
   "outputs": [],
   "source": [
    "# need to index or label as sites\n",
    "series1 = pd.Series(data= scores1, index = ['site' + str(i) for i in range(1,len(scores1)+1)])"
   ]
  },
  {
   "cell_type": "code",
   "execution_count": 43,
   "metadata": {
    "collapsed": false
   },
   "outputs": [
    {
     "data": {
      "text/plain": [
       "site1     4.438401\n",
       "site2     5.076091\n",
       "site3     4.259172\n",
       "site4     6.304167\n",
       "site5     5.528445\n",
       "site6     5.050673\n",
       "site7     6.590075\n",
       "site8     5.145307\n",
       "site9     5.428000\n",
       "site10    6.082180\n",
       "dtype: float64"
      ]
     },
     "execution_count": 43,
     "metadata": {},
     "output_type": "execute_result"
    }
   ],
   "source": [
    "series1"
   ]
  },
  {
   "cell_type": "code",
   "execution_count": 44,
   "metadata": {
    "collapsed": false
   },
   "outputs": [
    {
     "data": {
      "text/plain": [
       "site1      2.0\n",
       "site2      4.0\n",
       "site3      1.0\n",
       "site4      9.0\n",
       "site5      7.0\n",
       "site6      3.0\n",
       "site7     10.0\n",
       "site8      5.0\n",
       "site9      6.0\n",
       "site10     8.0\n",
       "dtype: float64"
      ]
     },
     "execution_count": 44,
     "metadata": {},
     "output_type": "execute_result"
    }
   ],
   "source": [
    "# Returns rank\n",
    "series1.rank(axis=0)"
   ]
  },
  {
   "cell_type": "code",
   "execution_count": null,
   "metadata": {
    "collapsed": true
   },
   "outputs": [],
   "source": []
  }
 ],
 "metadata": {
  "kernelspec": {
   "display_name": "Python [Root]",
   "language": "python",
   "name": "Python [Root]"
  },
  "language_info": {
   "codemirror_mode": {
    "name": "ipython",
    "version": 2
   },
   "file_extension": ".py",
   "mimetype": "text/x-python",
   "name": "python",
   "nbconvert_exporter": "python",
   "pygments_lexer": "ipython2",
   "version": "2.7.12"
  }
 },
 "nbformat": 4,
 "nbformat_minor": 0
}
