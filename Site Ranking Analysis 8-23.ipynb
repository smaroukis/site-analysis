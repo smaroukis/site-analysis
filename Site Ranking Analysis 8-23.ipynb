{
 "cells": [
  {
   "cell_type": "code",
   "execution_count": null,
   "metadata": {
    "collapsed": true
   },
   "outputs": [],
   "source": [
    "# Shortcomings/Assumptions: higher values realistically would not have the same permutation distribution as middle ones, \n",
    "# i.e. it would take dramatic changes realistically esp. politically to move from a 9 to a 10. Would be like California changing from \n",
    "# 50% to 60% renewable"
   ]
  },
  {
   "cell_type": "code",
   "execution_count": 82,
   "metadata": {
    "collapsed": true
   },
   "outputs": [
    {
     "name": "stdout",
     "output_type": "stream",
     "text": [
      "1.0\n",
      "2.0\n",
      "3.0\n",
      "4.0\n",
      "5.0\n",
      "6.0\n",
      "7.0\n",
      "8.0\n",
      "9.0\n",
      "10.0\n",
      "1.0\n",
      "2.0\n",
      "3.0\n",
      "4.0\n",
      "5.0\n",
      "6.0\n",
      "7.0\n",
      "8.0\n",
      "9.0\n",
      "10.0\n",
      "1.0\n",
      "2.0\n",
      "3.0\n",
      "4.0\n",
      "5.0\n",
      "6.0\n",
      "7.0\n",
      "8.0\n",
      "9.0\n",
      "10.0\n",
      "1.0\n",
      "2.0\n",
      "3.0\n",
      "4.0\n",
      "5.0\n",
      "6.0\n",
      "7.0\n",
      "8.0\n",
      "9.0\n",
      "10.0\n",
      "1.0\n",
      "2.0\n",
      "3.0\n",
      "4.0\n",
      "5.0\n",
      "6.0\n",
      "7.0\n",
      "8.0\n",
      "9.0\n",
      "10.0\n",
      "1.0\n",
      "2.0\n",
      "3.0\n",
      "4.0\n",
      "5.0\n",
      "6.0\n",
      "7.0\n",
      "8.0\n",
      "9.0\n",
      "10.0\n",
      "1.0\n",
      "2.0\n",
      "3.0\n",
      "4.0\n",
      "5.0\n",
      "6.0\n",
      "7.0\n",
      "8.0\n",
      "9.0\n",
      "10.0\n",
      "1.0\n",
      "2.0\n",
      "3.0\n",
      "4.0\n",
      "5.0\n",
      "6.0\n",
      "7.0\n",
      "8.0\n",
      "9.0\n",
      "10.0\n",
      "1.0\n",
      "2.0\n",
      "3.0\n",
      "4.0\n",
      "5.0\n",
      "6.0\n",
      "7.0\n",
      "8.0\n",
      "9.0\n",
      "10.0\n",
      "1.0\n",
      "2.0\n",
      "3.0\n",
      "4.0\n",
      "5.0\n",
      "6.0\n",
      "7.0\n",
      "8.0\n",
      "9.0\n",
      "10.0\n"
     ]
    }
   ],
   "source": [
    "for i in np.nditer(smpat):\n",
    "    print i\n",
    "    \n",
    "# LEARNED: don't forget double (()) 's for numpy operations and stacking"
   ]
  },
  {
   "cell_type": "code",
   "execution_count": 41,
   "metadata": {
    "collapsed": false
   },
   "outputs": [],
   "source": [
    "import pandas as pd\n",
    "import numpy as np\n",
    "import matplotlib.pyplot as plt\n",
    "import numpy.matlib as M\n",
    "from numpy.matlib import rand,zeros,ones,empty,eye\n"
   ]
  },
  {
   "cell_type": "code",
   "execution_count": null,
   "metadata": {
    "collapsed": true
   },
   "outputs": [],
   "source": [
    "# as array = matrix.A"
   ]
  },
  {
   "cell_type": "code",
   "execution_count": 14,
   "metadata": {
    "collapsed": false
   },
   "outputs": [],
   "source": [
    "# Create a Sample Matrix 10 x 10 from N(7, 9)\n",
    "3 + M.randn((10,10))*7\n"
   ]
  },
  {
   "cell_type": "code",
   "execution_count": 9,
   "metadata": {
    "collapsed": true
   },
   "outputs": [],
   "source": [
    "# One Loop\n",
    "\n",
    "# Print Loop number n\n",
    "\n",
    "# How are we permuting the matrix?\n",
    "# uniform, normally, etc\n",
    "\n",
    "# Save the matrix for inspection\n",
    "\n",
    "# Calculate Rankings and Save\n",
    "# save as ?? \n"
   ]
  },
  {
   "cell_type": "code",
   "execution_count": 218,
   "metadata": {
    "collapsed": false
   },
   "outputs": [],
   "source": [
    "# Create Column Array of Ones\n",
    "onemat = ones((10)).A.T\n",
    "# Create Array with Columns as 1s, 2s, 3s, etc\n",
    "smpat = np.hstack((onemat, 2*onemat, 3*onemat, 4*onemat, 5*onemat, 6*onemat, 7*onemat, 8*onemat, 9*onemat, 10*onemat))\n",
    "# Initialize results matrix\n",
    "results = zeros((10,10)).A"
   ]
  },
  {
   "cell_type": "code",
   "execution_count": 229,
   "metadata": {
    "collapsed": false
   },
   "outputs": [
    {
     "data": {
      "text/plain": [
       "array([[[  1.        ,   2.        ,   3.        ,   4.        ,\n",
       "           5.        ,   6.        ,   7.        ,   8.        ,\n",
       "           9.        ,  10.        ],\n",
       "        [  1.        ,   2.        ,   3.        ,   4.        ,\n",
       "           5.        ,   6.        ,   7.        ,   8.        ,\n",
       "           9.        ,  10.        ],\n",
       "        [  1.        ,   2.        ,   3.        ,   4.        ,\n",
       "           5.        ,   6.        ,   7.        ,   8.        ,\n",
       "           9.        ,  10.        ],\n",
       "        [  1.        ,   2.        ,   3.        ,   4.        ,\n",
       "           5.        ,   6.        ,   7.        ,   8.        ,\n",
       "           9.        ,  10.        ],\n",
       "        [  1.        ,   2.        ,   3.        ,   4.        ,\n",
       "           5.        ,   6.        ,   7.        ,   8.        ,\n",
       "           9.        ,  10.        ],\n",
       "        [  1.        ,   2.        ,   3.        ,   4.        ,\n",
       "           5.        ,   6.        ,   7.        ,   8.        ,\n",
       "           9.        ,  10.        ],\n",
       "        [  1.        ,   2.        ,   3.        ,   4.        ,\n",
       "           5.        ,   6.        ,   7.        ,   8.        ,\n",
       "           9.        ,  10.        ],\n",
       "        [  1.        ,   2.        ,   3.        ,   4.        ,\n",
       "           5.        ,   6.        ,   7.        ,   8.        ,\n",
       "           9.        ,  10.        ],\n",
       "        [  1.        ,   2.        ,   3.        ,   4.        ,\n",
       "           5.        ,   6.        ,   7.        ,   8.        ,\n",
       "           9.        ,  10.        ],\n",
       "        [  1.        ,   2.        ,   3.        ,   4.        ,\n",
       "           5.        ,   6.        ,   7.        ,   8.        ,\n",
       "           9.        ,  10.        ]],\n",
       "\n",
       "       [[  2.01531289,   2.60408005,   0.92321344,   2.66050758,\n",
       "           3.40417539,   9.31192648,   6.34135683,   8.40509633,\n",
       "          10.        ,  10.        ],\n",
       "        [  0.        ,   0.        ,   4.27876584,   3.57339105,\n",
       "           4.75250026,   6.87662371,   5.70120103,   7.87706047,\n",
       "          10.        ,  10.        ],\n",
       "        [  1.19003023,   2.81184144,   2.93983828,   3.82033181,\n",
       "           7.4185408 ,   2.66053733,   8.68985739,   7.92257627,\n",
       "           8.56026103,   6.64848992],\n",
       "        [  1.72814771,   1.09856367,   1.70936841,   5.22747009,\n",
       "           6.11444822,   3.6577171 ,   6.16103048,  10.        ,\n",
       "           8.5935565 ,   9.63247754],\n",
       "        [  0.        ,   0.42360301,   0.        ,   2.70097262,\n",
       "           2.38686831,   6.14320522,   7.69691451,   6.60027992,\n",
       "          10.        ,  10.        ],\n",
       "        [  1.78921944,   5.30083115,   4.11191617,   2.55937898,\n",
       "           8.13582712,  10.        ,   7.08683975,   7.87479032,\n",
       "          10.        ,  10.        ],\n",
       "        [  0.60343881,   0.64074208,   2.09814594,   4.62568671,\n",
       "           9.28184225,   5.9000328 ,   6.53399862,   7.3780228 ,\n",
       "           9.25396778,   9.19361569],\n",
       "        [  0.94229379,   1.4510001 ,   3.85605074,   4.99643405,\n",
       "           3.93632892,   3.940661  ,   6.95844961,  10.        ,\n",
       "          10.        ,  10.        ],\n",
       "        [  5.36211599,   0.        ,   4.01093957,   0.42338475,\n",
       "           2.93331763,   6.75373614,   5.02599554,   3.50554105,\n",
       "           7.9787435 ,   8.6066737 ],\n",
       "        [  0.        ,   1.64044129,   2.51787509,   3.52685085,\n",
       "           2.21683165,   3.23526467,   4.02850129,   7.61659096,\n",
       "           9.00913634,  10.        ]]])"
      ]
     },
     "execution_count": 229,
     "metadata": {},
     "output_type": "execute_result"
    }
   ],
   "source": [
    "\n",
    "# Copy sample matrix\n",
    "cpy = np.copy(smpat)\n",
    "results"
   ]
  },
  {
   "cell_type": "code",
   "execution_count": 253,
   "metadata": {
    "collapsed": false,
    "scrolled": true
   },
   "outputs": [
    {
     "name": "stdout",
     "output_type": "stream",
     "text": [
      "Wall time: 0 ns\n"
     ]
    }
   ],
   "source": [
    "%time\n",
    "results = np.copy(smpat)\n",
    "\n",
    "for i in range(0,6):\n",
    "    cpy = np.copy(smpat)\n",
    "    # Permute\n",
    "    # If < 0 set to 0, if > 10 set to 10\n",
    "    for x in np.nditer(cpy, op_flags=['readwrite']):\n",
    "        # random samples = mu + sigma * randn\n",
    "        x[...] = x + M.randn(1,1)*2\n",
    "        if x>10: x[...] = 10\n",
    "        if x<0: x[...] = 0\n",
    "    results = np.dstack((results,cpy))\n",
    "\n",
    "    # TODO something wrong with appending array (not creating 3d array)\n",
    "    # TODO still wrong\n"
   ]
  },
  {
   "cell_type": "code",
   "execution_count": null,
   "metadata": {
    "collapsed": true
   },
   "outputs": [],
   "source": []
  }
 ],
 "metadata": {
  "kernelspec": {
   "display_name": "Python [Root]",
   "language": "python",
   "name": "Python [Root]"
  },
  "language_info": {
   "codemirror_mode": {
    "name": "ipython",
    "version": 2
   },
   "file_extension": ".py",
   "mimetype": "text/x-python",
   "name": "python",
   "nbconvert_exporter": "python",
   "pygments_lexer": "ipython2",
   "version": "2.7.12"
  }
 },
 "nbformat": 4,
 "nbformat_minor": 0
}
