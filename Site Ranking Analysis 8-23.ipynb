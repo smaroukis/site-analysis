{
 "cells": [
  {
   "cell_type": "code",
   "execution_count": 1,
   "metadata": {
    "collapsed": true
   },
   "outputs": [],
   "source": [
    "# Added to github on 9/5"
   ]
  },
  {
   "cell_type": "code",
   "execution_count": 2,
   "metadata": {
    "collapsed": true
   },
   "outputs": [],
   "source": [
    "# Shortcomings/Assumptions: higher values realistically would not have the same permutation distribution as middle ones, \n",
    "# i.e. it would take dramatic changes realistically esp. politically to move from a 9 to a 10. Would be like California changing from \n",
    "# 50% to 60% renewable"
   ]
  },
  {
   "cell_type": "code",
   "execution_count": 3,
   "metadata": {
    "collapsed": false
   },
   "outputs": [
    {
     "ename": "NameError",
     "evalue": "name 'np' is not defined",
     "output_type": "error",
     "traceback": [
      "\u001b[1;31m---------------------------------------------------------------------------\u001b[0m",
      "\u001b[1;31mNameError\u001b[0m                                 Traceback (most recent call last)",
      "\u001b[1;32m<ipython-input-3-339ecb22a5c4>\u001b[0m in \u001b[0;36m<module>\u001b[1;34m()\u001b[0m\n\u001b[1;32m----> 1\u001b[1;33m \u001b[1;32mfor\u001b[0m \u001b[0mi\u001b[0m \u001b[1;32min\u001b[0m \u001b[0mnp\u001b[0m\u001b[1;33m.\u001b[0m\u001b[0mnditer\u001b[0m\u001b[1;33m(\u001b[0m\u001b[0msmpat\u001b[0m\u001b[1;33m)\u001b[0m\u001b[1;33m:\u001b[0m\u001b[1;33m\u001b[0m\u001b[0m\n\u001b[0m\u001b[0;32m      2\u001b[0m     \u001b[1;32mprint\u001b[0m \u001b[0mi\u001b[0m\u001b[1;33m\u001b[0m\u001b[0m\n\u001b[0;32m      3\u001b[0m \u001b[1;33m\u001b[0m\u001b[0m\n\u001b[0;32m      4\u001b[0m \u001b[1;31m# LEARNED: don't forget double (()) 's for numpy operations and stacking\u001b[0m\u001b[1;33m\u001b[0m\u001b[1;33m\u001b[0m\u001b[0m\n",
      "\u001b[1;31mNameError\u001b[0m: name 'np' is not defined"
     ]
    }
   ],
   "source": [
    "for i in np.nditer(smpat):\n",
    "    print i\n",
    "    \n",
    "# LEARNED: don't forget double (()) 's for numpy operations and stacking"
   ]
  },
  {
   "cell_type": "code",
   "execution_count": 5,
   "metadata": {
    "collapsed": true
   },
   "outputs": [],
   "source": [
    "import pandas as pd\n",
    "import numpy as np\n",
    "import matplotlib.pyplot as plt\n",
    "import numpy.matlib as M\n",
    "from numpy.matlib import rand,zeros,ones,empty,eye\n",
    "np.set_printoptions(precision=3)"
   ]
  },
  {
   "cell_type": "code",
   "execution_count": 10,
   "metadata": {
    "collapsed": false
   },
   "outputs": [
    {
     "name": "stdout",
     "output_type": "stream",
     "text": [
      "CPU times: user 0 ns, sys: 0 ns, total: 0 ns\n",
      "Wall time: 3.1 µs\n"
     ]
    }
   ],
   "source": [
    "# as array = matrix.A\n",
    "\n",
    "# Create a Sample Matrix 10 x 10 from mu + std*randn\n",
    "5+M.randn((10,10))*1\n",
    "\n",
    "\n",
    "# One Loop\n",
    "\n",
    "# Print Loop number n\n",
    "\n",
    "# How are we permuting the matrix?\n",
    "# uniform, normally, etc\n",
    "\n",
    "# Save the matrix for inspection\n",
    "\n",
    "# Calculate Rankings and Save\n",
    "# save as ?? \n",
    "\n",
    "\n",
    "# Create Column Array of Ones\n",
    "onemat = ones((10)).A.T\n",
    "# Create Array with Columns as 1s, 2s, 3s, etc\n",
    "smpat = np.hstack((onemat, 2*onemat, 3*onemat, 4*onemat, 5*onemat, 6*onemat, 7*onemat, 8*onemat, 9*onemat, 10*onemat))\n",
    "# Initialize results matrix\n",
    "results = zeros((10,10)).A\n",
    "\n",
    "%time\n",
    "results = np.copy(smpat)\n",
    "N = 100\n",
    "# N randomizations (of master ranking), creating 10x10xN matrix\n",
    "# get results of kth simulation with results[:,:,k-1]\n",
    "# (Random Normal Permutation)\n",
    "for i in range(1,N):\n",
    "    cpy = np.copy(smpat)\n",
    "    # Permute\n",
    "    # If < 0 set to 0, if > 10 set to 10\n",
    "    for x in np.nditer(cpy, op_flags=['readwrite']):\n",
    "        # random samples = mu + sigma * randn\n",
    "        x[...] = x + M.randn(1,1)*2\n",
    "        if x>10: x[...] = 10\n",
    "        if x<0: x[...] = 0\n",
    "    results = np.dstack((results,cpy))\n",
    "\n",
    "\n",
    "# Gives Resulting Matrix ()\n",
    "results.shape\n",
    "results[:,:,0] \n",
    "\n",
    "\n",
    "# TODO: if each site is a ROW, average across the rows for the final value\n",
    "\n",
    "\n",
    "results[:,:,0].mean()\n",
    "# Apply along axis=1 i.e. columns\n",
    "np.apply_along_axis(lambda x: x.mean(), 1, results[:,:,0])\n",
    "# now we have array of length = 10 with averages for each row\n",
    "\n",
    "# But if we want to just look at one site/row:\n",
    "# array of averages for row 1\n",
    "site1 = results[0,:,:] # 10x100 array\n",
    "# Mean along cols gives average score on \"features\" (not desirable)\n",
    "np.apply_along_axis(lambda x: x.mean(), 1, site1)\n",
    "# Mean along rows gives average total score for each simulation (sort of desirable)\n",
    "site1scores = np.apply_along_axis(lambda x: x.mean(), 0, site1)\n",
    "# First, plot the change in score over simulations"
   ]
  },
  {
   "cell_type": "code",
   "execution_count": 14,
   "metadata": {
    "collapsed": false
   },
   "outputs": [],
   "source": [
    "k = range(0,100)"
   ]
  },
  {
   "cell_type": "code",
   "execution_count": 18,
   "metadata": {
    "collapsed": false
   },
   "outputs": [],
   "source": [
    "plt.plot(k, site1scores)\n",
    "plt.show()\n",
    "# But really we want the distribution of scores"
   ]
  },
  {
   "cell_type": "code",
   "execution_count": 22,
   "metadata": {
    "collapsed": false
   },
   "outputs": [],
   "source": [
    "plt.boxplot(site1scores)\n",
    "plt.show()\n",
    "# But we really want the ranking\n"
   ]
  },
  {
   "cell_type": "code",
   "execution_count": 23,
   "metadata": {
    "collapsed": false
   },
   "outputs": [
    {
     "data": {
      "text/plain": [
       "array([ 1.197,  2.163,  2.812,  4.088,  5.076,  5.752,  6.883,  7.797,\n",
       "        8.739,  9.14 ])"
      ]
     },
     "execution_count": 23,
     "metadata": {},
     "output_type": "execute_result"
    }
   ],
   "source": [
    "np.apply_along_axis(lambda x: x.mean(), 1, site1)"
   ]
  },
  {
   "cell_type": "code",
   "execution_count": 55,
   "metadata": {
    "collapsed": false
   },
   "outputs": [],
   "source": [
    "# Let's use one to get the ranking of the average scores\n",
    "scores1 = np.apply_along_axis(lambda x: x.mean(), 1, results[:,:,1])\n",
    "\n",
    "# need to index or label as sites\n",
    "series1 = pd.Series(data= scores1, index = ['site' + str(i) for i in range(1,len(scores1)+1)])"
   ]
  },
  {
   "cell_type": "code",
   "execution_count": 57,
   "metadata": {
    "collapsed": true
   },
   "outputs": [],
   "source": [
    "scores2 = np.apply_along_axis(lambda x: x.mean(), 1, results[:,:,2])\n",
    "series2 = pd.Series(data= scores2, index = ['site' + str(i) for i in range(1,len(scores2)+1)])"
   ]
  },
  {
   "cell_type": "code",
   "execution_count": 63,
   "metadata": {
    "collapsed": false
   },
   "outputs": [
    {
     "data": {
      "text/html": [
       "<div>\n",
       "<table border=\"1\" class=\"dataframe\">\n",
       "  <thead>\n",
       "    <tr style=\"text-align: right;\">\n",
       "      <th></th>\n",
       "      <th>0</th>\n",
       "      <th>1</th>\n",
       "    </tr>\n",
       "  </thead>\n",
       "  <tbody>\n",
       "    <tr>\n",
       "      <th>site1</th>\n",
       "      <td>2.0</td>\n",
       "      <td>1.0</td>\n",
       "    </tr>\n",
       "    <tr>\n",
       "      <th>site2</th>\n",
       "      <td>4.0</td>\n",
       "      <td>9.0</td>\n",
       "    </tr>\n",
       "    <tr>\n",
       "      <th>site3</th>\n",
       "      <td>1.0</td>\n",
       "      <td>8.0</td>\n",
       "    </tr>\n",
       "    <tr>\n",
       "      <th>site4</th>\n",
       "      <td>9.0</td>\n",
       "      <td>3.0</td>\n",
       "    </tr>\n",
       "    <tr>\n",
       "      <th>site5</th>\n",
       "      <td>7.0</td>\n",
       "      <td>6.0</td>\n",
       "    </tr>\n",
       "    <tr>\n",
       "      <th>site6</th>\n",
       "      <td>3.0</td>\n",
       "      <td>2.0</td>\n",
       "    </tr>\n",
       "    <tr>\n",
       "      <th>site7</th>\n",
       "      <td>10.0</td>\n",
       "      <td>5.0</td>\n",
       "    </tr>\n",
       "    <tr>\n",
       "      <th>site8</th>\n",
       "      <td>5.0</td>\n",
       "      <td>7.0</td>\n",
       "    </tr>\n",
       "    <tr>\n",
       "      <th>site9</th>\n",
       "      <td>6.0</td>\n",
       "      <td>4.0</td>\n",
       "    </tr>\n",
       "    <tr>\n",
       "      <th>site10</th>\n",
       "      <td>8.0</td>\n",
       "      <td>10.0</td>\n",
       "    </tr>\n",
       "  </tbody>\n",
       "</table>\n",
       "</div>"
      ],
      "text/plain": [
       "           0     1\n",
       "site1    2.0   1.0\n",
       "site2    4.0   9.0\n",
       "site3    1.0   8.0\n",
       "site4    9.0   3.0\n",
       "site5    7.0   6.0\n",
       "site6    3.0   2.0\n",
       "site7   10.0   5.0\n",
       "site8    5.0   7.0\n",
       "site9    6.0   4.0\n",
       "site10   8.0  10.0"
      ]
     },
     "execution_count": 63,
     "metadata": {},
     "output_type": "execute_result"
    }
   ],
   "source": [
    "# Append (hcat) series2 to series1\n",
    "pd.concat([series1.rank(), series2.rank()], axis=1)"
   ]
  },
  {
   "cell_type": "code",
   "execution_count": 79,
   "metadata": {
    "collapsed": false
   },
   "outputs": [],
   "source": [
    "series = pd.Series(data=np.apply_along_axis(lambda x: x.mean(), 1, results[:,:,0]), index = ['Site ' + str(k) for k in range(1,results.shape[0]+1)])\n",
    "\n",
    "for i in range(0,100):\n",
    "    series_new = pd.Series(data=np.apply_along_axis(lambda x: x.mean(), 1, results[:,:,i]), index = ['Site ' + str(k) for k in range(1,results.shape[0]+1)])\n",
    "    series_cat = pd.concat([series.rank(), series_new.rank()], axis=1)\n",
    "    series = series_cat\n",
    "    ++i\n",
    "                           "
   ]
  },
  {
   "cell_type": "code",
   "execution_count": null,
   "metadata": {
    "collapsed": true
   },
   "outputs": [],
   "source": [
    "[pd.concat([pd.Series(data=np.apply_along_axis(lambda x: x.mean(), results[:,:,i]), index = ['Site ' + str(k) for k in range(1,results.shape[0]+1)]])]"
   ]
  },
  {
   "cell_type": "code",
   "execution_count": 67,
   "metadata": {
    "collapsed": false
   },
   "outputs": [
    {
     "data": {
      "text/plain": [
       "10"
      ]
     },
     "execution_count": 67,
     "metadata": {},
     "output_type": "execute_result"
    }
   ],
   "source": [
    "results.shape[0]"
   ]
  },
  {
   "cell_type": "code",
   "execution_count": null,
   "metadata": {
    "collapsed": true
   },
   "outputs": [],
   "source": []
  },
  {
   "cell_type": "code",
   "execution_count": 49,
   "metadata": {
    "collapsed": false
   },
   "outputs": [],
   "source": [
    "# The 'score' for each of N simulation \n",
    "results_avg = np.apply_along_axis(lambda x: x.mean(), 1, results)"
   ]
  },
  {
   "cell_type": "code",
   "execution_count": 50,
   "metadata": {
    "collapsed": true
   },
   "outputs": [
    {
     "data": {
      "text/plain": [
       "array([[ 5.5  ,  4.438,  4.112,  4.942,  4.973,  5.622,  5.207,  6.174,\n",
       "         5.867,  4.837,  5.394,  5.647,  5.07 ,  5.117,  5.476,  4.897,\n",
       "         5.108,  5.594,  5.817,  4.413,  6.159,  5.644,  5.695,  4.474,\n",
       "         5.644,  4.723,  5.709,  5.788,  5.209,  4.986,  5.337,  4.472,\n",
       "         5.502,  5.601,  5.102,  5.283,  5.394,  4.941,  5.768,  5.075,\n",
       "         5.415,  5.586,  5.462,  5.283,  5.106,  6.441,  4.896,  5.215,\n",
       "         5.006,  5.91 ,  5.576,  5.949,  5.67 ,  5.953,  5.891,  5.507,\n",
       "         5.003,  5.635,  6.772,  4.312,  5.258,  4.702,  5.436,  5.507,\n",
       "         6.338,  4.297,  5.9  ,  5.272,  6.127,  4.897,  4.719,  5.773,\n",
       "         5.105,  5.238,  6.372,  6.24 ,  4.88 ,  4.567,  5.087,  5.193,\n",
       "         5.258,  5.05 ,  6.255,  5.72 ,  5.094,  4.905,  5.505,  5.417,\n",
       "         6.176,  4.967,  4.683,  5.243,  6.564,  4.508,  6.441,  5.077,\n",
       "         5.381,  5.286,  5.565,  5.161],\n",
       "       [ 5.5  ,  5.076,  5.845,  5.349,  4.879,  5.305,  6.42 ,  5.219,\n",
       "         5.421,  5.742,  6.686,  5.325,  5.171,  4.445,  6.291,  5.846,\n",
       "         5.79 ,  6.272,  5.813,  5.183,  6.445,  5.856,  5.929,  4.986,\n",
       "         5.944,  6.202,  4.96 ,  5.221,  5.701,  5.539,  5.731,  6.008,\n",
       "         5.325,  4.611,  5.018,  5.697,  5.771,  6.651,  5.487,  5.304,\n",
       "         5.198,  6.043,  5.534,  4.789,  5.389,  4.966,  5.238,  5.377,\n",
       "         4.642,  5.123,  4.763,  5.102,  5.742,  5.631,  5.398,  4.938,\n",
       "         5.891,  5.829,  5.08 ,  4.925,  4.72 ,  5.56 ,  6.174,  5.858,\n",
       "         5.955,  5.47 ,  5.729,  6.385,  5.47 ,  5.919,  4.712,  5.577,\n",
       "         4.671,  4.959,  6.125,  5.298,  6.144,  5.712,  5.465,  3.871,\n",
       "         5.128,  5.575,  5.296,  5.678,  5.313,  4.558,  4.702,  5.269,\n",
       "         6.562,  6.107,  5.647,  4.342,  5.722,  5.313,  4.971,  6.123,\n",
       "         5.632,  5.104,  4.935,  5.295],\n",
       "       [ 5.5  ,  4.259,  5.669,  5.372,  5.193,  5.226,  5.351,  5.508,\n",
       "         5.592,  5.109,  5.49 ,  5.774,  6.337,  5.175,  4.969,  5.385,\n",
       "         5.913,  4.825,  5.623,  5.655,  5.2  ,  4.75 ,  6.043,  5.484,\n",
       "         4.9  ,  6.076,  4.868,  5.05 ,  4.938,  4.744,  4.794,  4.98 ,\n",
       "         5.33 ,  4.79 ,  5.276,  6.202,  5.136,  6.28 ,  6.359,  5.409,\n",
       "         5.692,  6.312,  4.232,  4.977,  5.104,  5.379,  5.534,  5.394,\n",
       "         5.944,  5.177,  5.91 ,  5.274,  5.2  ,  5.591,  5.509,  5.158,\n",
       "         5.097,  5.   ,  4.244,  5.619,  5.366,  4.779,  5.316,  5.623,\n",
       "         5.194,  5.569,  5.68 ,  5.54 ,  5.148,  5.098,  4.54 ,  4.033,\n",
       "         4.85 ,  4.347,  6.006,  4.698,  6.209,  5.254,  4.974,  4.961,\n",
       "         4.999,  5.413,  6.094,  5.064,  6.019,  6.415,  5.484,  4.849,\n",
       "         4.762,  5.573,  5.437,  4.64 ,  5.662,  5.755,  5.554,  4.955,\n",
       "         4.547,  4.34 ,  4.761,  5.045],\n",
       "       [ 5.5  ,  6.304,  5.104,  6.494,  5.815,  5.553,  5.774,  5.811,\n",
       "         6.136,  5.945,  5.864,  4.648,  4.823,  5.535,  5.829,  5.013,\n",
       "         5.806,  5.256,  6.122,  5.811,  5.323,  4.88 ,  6.117,  5.34 ,\n",
       "         5.088,  5.472,  4.797,  5.894,  5.687,  6.525,  5.82 ,  5.258,\n",
       "         5.41 ,  5.05 ,  5.35 ,  5.617,  4.869,  4.943,  4.921,  5.925,\n",
       "         5.334,  4.435,  5.54 ,  5.997,  5.704,  5.411,  5.65 ,  5.031,\n",
       "         5.288,  5.34 ,  5.248,  5.976,  5.857,  6.036,  5.677,  5.01 ,\n",
       "         5.765,  5.328,  5.775,  6.083,  5.021,  4.205,  6.203,  4.71 ,\n",
       "         5.585,  5.563,  4.01 ,  5.575,  5.756,  6.701,  5.814,  5.839,\n",
       "         6.891,  5.088,  4.971,  5.872,  5.209,  4.895,  5.451,  5.276,\n",
       "         4.673,  5.47 ,  5.537,  5.346,  5.235,  5.019,  5.696,  5.671,\n",
       "         5.113,  6.108,  6.134,  5.357,  5.206,  4.82 ,  5.351,  5.221,\n",
       "         4.934,  4.702,  6.795,  5.375],\n",
       "       [ 5.5  ,  5.528,  5.506,  4.979,  5.271,  5.593,  5.481,  5.667,\n",
       "         5.938,  5.907,  5.434,  5.864,  5.158,  5.793,  6.282,  5.901,\n",
       "         5.695,  5.263,  5.154,  5.739,  5.794,  5.15 ,  5.566,  6.972,\n",
       "         5.97 ,  5.339,  5.038,  6.396,  6.156,  5.346,  5.254,  5.126,\n",
       "         5.637,  4.726,  3.455,  5.194,  6.121,  5.615,  5.35 ,  4.681,\n",
       "         5.326,  5.087,  4.771,  6.244,  5.712,  5.467,  5.818,  5.986,\n",
       "         5.04 ,  4.977,  5.724,  5.939,  5.37 ,  5.919,  4.819,  6.607,\n",
       "         4.579,  4.503,  4.571,  4.98 ,  4.959,  5.855,  5.09 ,  5.011,\n",
       "         5.258,  5.55 ,  5.341,  5.304,  4.854,  5.086,  5.455,  5.743,\n",
       "         5.236,  5.923,  5.415,  5.007,  4.933,  4.941,  5.471,  5.806,\n",
       "         5.405,  5.388,  5.582,  4.94 ,  5.659,  5.146,  4.656,  5.407,\n",
       "         5.202,  5.718,  5.96 ,  5.266,  4.506,  5.627,  4.799,  5.845,\n",
       "         4.811,  5.385,  4.669,  4.295],\n",
       "       [ 5.5  ,  5.051,  4.301,  4.729,  6.37 ,  4.628,  5.761,  6.305,\n",
       "         6.181,  5.5  ,  5.061,  6.076,  5.386,  5.748,  5.573,  5.305,\n",
       "         5.04 ,  4.429,  5.283,  5.392,  5.344,  4.951,  6.252,  5.708,\n",
       "         5.96 ,  5.19 ,  4.968,  6.154,  6.284,  5.004,  6.194,  5.968,\n",
       "         5.897,  5.536,  4.042,  5.438,  4.897,  5.947,  5.305,  4.989,\n",
       "         5.649,  5.347,  4.435,  4.976,  5.401,  5.154,  4.358,  6.022,\n",
       "         4.805,  4.838,  6.568,  5.415,  5.431,  5.633,  5.33 ,  5.686,\n",
       "         5.724,  5.39 ,  6.23 ,  5.869,  4.842,  4.562,  5.178,  5.23 ,\n",
       "         5.887,  5.131,  5.926,  5.423,  5.986,  5.004,  5.668,  6.273,\n",
       "         5.293,  4.669,  5.092,  5.573,  4.8  ,  4.909,  5.076,  5.449,\n",
       "         5.402,  5.182,  5.051,  5.445,  5.108,  5.593,  6.272,  5.848,\n",
       "         5.179,  5.119,  5.596,  5.075,  5.562,  5.067,  5.417,  5.888,\n",
       "         5.13 ,  5.189,  4.761,  5.174],\n",
       "       [ 5.5  ,  6.59 ,  5.217,  4.886,  5.335,  6.757,  4.085,  4.965,\n",
       "         5.836,  5.438,  5.86 ,  5.459,  4.811,  4.379,  4.74 ,  4.856,\n",
       "         5.375,  5.606,  5.127,  4.869,  4.535,  5.374,  5.307,  5.974,\n",
       "         5.461,  5.164,  5.825,  5.283,  5.693,  5.044,  4.719,  5.515,\n",
       "         5.657,  4.525,  6.518,  6.403,  5.741,  4.963,  5.48 ,  4.839,\n",
       "         5.381,  4.763,  5.231,  5.372,  5.276,  5.451,  5.113,  5.752,\n",
       "         4.761,  5.815,  6.652,  6.476,  4.295,  5.801,  4.613,  5.767,\n",
       "         5.792,  4.898,  5.165,  6.821,  4.868,  5.42 ,  5.218,  5.757,\n",
       "         5.579,  5.355,  4.654,  5.515,  6.164,  5.742,  5.884,  6.688,\n",
       "         4.963,  6.182,  5.332,  6.209,  5.573,  5.023,  5.478,  4.835,\n",
       "         6.686,  4.365,  5.43 ,  5.353,  5.918,  5.614,  5.185,  6.405,\n",
       "         5.637,  5.392,  6.218,  5.551,  4.754,  5.747,  5.01 ,  5.714,\n",
       "         5.686,  5.407,  5.347,  4.705],\n",
       "       [ 5.5  ,  5.145,  5.519,  4.912,  5.731,  6.013,  5.355,  5.292,\n",
       "         5.285,  5.821,  5.088,  5.874,  5.429,  5.74 ,  5.442,  5.448,\n",
       "         5.743,  5.679,  6.599,  4.954,  5.778,  5.544,  5.708,  5.174,\n",
       "         4.789,  5.101,  5.265,  4.311,  5.351,  5.057,  5.046,  5.561,\n",
       "         6.051,  5.897,  5.061,  4.761,  6.055,  5.912,  5.469,  4.294,\n",
       "         5.546,  5.477,  4.511,  4.492,  6.012,  5.028,  6.305,  5.785,\n",
       "         5.005,  4.762,  5.336,  5.933,  4.77 ,  4.641,  5.497,  5.509,\n",
       "         5.082,  5.416,  5.055,  6.46 ,  5.272,  5.195,  5.155,  5.063,\n",
       "         6.58 ,  5.405,  5.639,  5.892,  5.37 ,  5.047,  4.785,  5.604,\n",
       "         5.897,  6.183,  5.563,  5.623,  5.165,  5.256,  5.25 ,  5.948,\n",
       "         5.208,  5.635,  5.008,  4.683,  5.905,  5.749,  4.697,  5.263,\n",
       "         5.824,  5.239,  5.457,  5.784,  6.071,  5.289,  4.852,  4.892,\n",
       "         5.86 ,  5.628,  5.379,  5.004],\n",
       "       [ 5.5  ,  5.428,  5.186,  4.493,  4.555,  6.009,  4.643,  4.856,\n",
       "         5.898,  4.507,  5.246,  5.337,  5.648,  5.381,  5.843,  5.273,\n",
       "         5.245,  5.212,  6.02 ,  5.107,  5.028,  5.097,  5.3  ,  6.048,\n",
       "         5.737,  5.349,  4.862,  6.536,  4.654,  5.827,  5.567,  5.248,\n",
       "         5.919,  5.166,  5.195,  4.859,  4.835,  5.691,  4.892,  7.009,\n",
       "         5.762,  5.912,  5.371,  5.479,  6.087,  5.628,  5.164,  4.462,\n",
       "         6.601,  4.787,  5.531,  5.991,  4.932,  5.704,  5.362,  4.642,\n",
       "         6.381,  5.553,  6.373,  5.798,  4.492,  5.446,  6.77 ,  5.798,\n",
       "         5.415,  6.747,  4.704,  5.085,  4.748,  4.687,  5.748,  5.12 ,\n",
       "         5.367,  5.082,  5.169,  5.936,  5.268,  5.28 ,  5.015,  6.643,\n",
       "         5.131,  5.464,  5.772,  5.564,  5.996,  5.626,  5.71 ,  5.219,\n",
       "         5.641,  5.365,  4.904,  6.262,  5.66 ,  4.79 ,  5.5  ,  5.111,\n",
       "         5.176,  4.861,  5.623,  4.808],\n",
       "       [ 5.5  ,  6.082,  5.894,  4.922,  5.771,  5.809,  4.825,  6.273,\n",
       "         4.497,  4.669,  4.683,  6.152,  4.952,  5.449,  4.898,  5.997,\n",
       "         6.411,  5.007,  4.793,  5.388,  6.238,  5.937,  4.788,  5.94 ,\n",
       "         4.851,  5.425,  5.229,  4.94 ,  6.367,  4.758,  5.448,  5.585,\n",
       "         5.649,  5.703,  5.526,  4.726,  4.708,  5.985,  5.169,  6.382,\n",
       "         5.466,  5.927,  4.546,  5.493,  5.565,  4.93 ,  5.692,  5.991,\n",
       "         5.333,  5.318,  5.299,  6.153,  6.484,  4.901,  5.006,  3.722,\n",
       "         5.751,  5.367,  6.091,  5.106,  5.229,  6.199,  5.704,  4.743,\n",
       "         5.728,  5.762,  6.312,  4.907,  5.629,  5.758,  5.765,  5.273,\n",
       "         5.066,  5.5  ,  6.233,  5.892,  5.908,  5.217,  5.263,  5.371,\n",
       "         5.174,  5.48 ,  5.877,  5.324,  5.65 ,  5.477,  4.977,  5.696,\n",
       "         4.46 ,  5.248,  5.108,  5.262,  5.153,  5.364,  5.637,  5.938,\n",
       "         5.363,  6.067,  6.316,  6.688]])"
      ]
     },
     "execution_count": 50,
     "metadata": {},
     "output_type": "execute_result"
    }
   ],
   "source": [
    "# Need to put into Dataframe (N dataframes)"
   ]
  },
  {
   "cell_type": "code",
   "execution_count": null,
   "metadata": {
    "collapsed": true
   },
   "outputs": [],
   "source": [
    "# For each simulation (i.e. each 'stack')\n",
    "# calculate the score (along axis 1)\n",
    "# put into data frame as Site 1 .. N\n",
    "# rank\n"
   ]
  },
  {
   "cell_type": "code",
   "execution_count": 44,
   "metadata": {
    "collapsed": false
   },
   "outputs": [
    {
     "data": {
      "text/plain": [
       "site1      2.0\n",
       "site2      4.0\n",
       "site3      1.0\n",
       "site4      9.0\n",
       "site5      7.0\n",
       "site6      3.0\n",
       "site7     10.0\n",
       "site8      5.0\n",
       "site9      6.0\n",
       "site10     8.0\n",
       "dtype: float64"
      ]
     },
     "execution_count": 44,
     "metadata": {},
     "output_type": "execute_result"
    }
   ],
   "source": [
    "# Returns rank\n",
    "series1.rank(axis=0)"
   ]
  },
  {
   "cell_type": "code",
   "execution_count": null,
   "metadata": {
    "collapsed": true
   },
   "outputs": [],
   "source": []
  }
 ],
 "metadata": {
  "kernelspec": {
   "display_name": "Python [Root]",
   "language": "python",
   "name": "Python [Root]"
  },
  "language_info": {
   "codemirror_mode": {
    "name": "ipython",
    "version": 2
   },
   "file_extension": ".py",
   "mimetype": "text/x-python",
   "name": "python",
   "nbconvert_exporter": "python",
   "pygments_lexer": "ipython2",
   "version": "2.7.12"
  }
 },
 "nbformat": 4,
 "nbformat_minor": 0
}
