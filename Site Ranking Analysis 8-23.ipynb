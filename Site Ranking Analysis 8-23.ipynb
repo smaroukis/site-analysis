{
 "cells": [
  {
   "cell_type": "code",
   "execution_count": 1,
   "metadata": {
    "collapsed": true
   },
   "outputs": [],
   "source": [
    "# Added to github on 9/5"
   ]
  },
  {
   "cell_type": "code",
   "execution_count": 2,
   "metadata": {
    "collapsed": true
   },
   "outputs": [],
   "source": [
    "# Shortcomings/Assumptions: higher values realistically would not have the same permutation distribution as middle ones, \n",
    "# i.e. it would take dramatic changes realistically esp. politically to move from a 9 to a 10. Would be like California changing from \n",
    "# 50% to 60% renewable"
   ]
  },
  {
   "cell_type": "code",
   "execution_count": 3,
   "metadata": {
    "collapsed": false
   },
   "outputs": [
    {
     "ename": "NameError",
     "evalue": "name 'np' is not defined",
     "output_type": "error",
     "traceback": [
      "\u001b[1;31m---------------------------------------------------------------------------\u001b[0m",
      "\u001b[1;31mNameError\u001b[0m                                 Traceback (most recent call last)",
      "\u001b[1;32m<ipython-input-3-339ecb22a5c4>\u001b[0m in \u001b[0;36m<module>\u001b[1;34m()\u001b[0m\n\u001b[1;32m----> 1\u001b[1;33m \u001b[1;32mfor\u001b[0m \u001b[0mi\u001b[0m \u001b[1;32min\u001b[0m \u001b[0mnp\u001b[0m\u001b[1;33m.\u001b[0m\u001b[0mnditer\u001b[0m\u001b[1;33m(\u001b[0m\u001b[0msmpat\u001b[0m\u001b[1;33m)\u001b[0m\u001b[1;33m:\u001b[0m\u001b[1;33m\u001b[0m\u001b[0m\n\u001b[0m\u001b[0;32m      2\u001b[0m     \u001b[1;32mprint\u001b[0m \u001b[0mi\u001b[0m\u001b[1;33m\u001b[0m\u001b[0m\n\u001b[0;32m      3\u001b[0m \u001b[1;33m\u001b[0m\u001b[0m\n\u001b[0;32m      4\u001b[0m \u001b[1;31m# LEARNED: don't forget double (()) 's for numpy operations and stacking\u001b[0m\u001b[1;33m\u001b[0m\u001b[1;33m\u001b[0m\u001b[0m\n",
      "\u001b[1;31mNameError\u001b[0m: name 'np' is not defined"
     ]
    }
   ],
   "source": [
    "for i in np.nditer(smpat):\n",
    "    print i\n",
    "    \n",
    "# LEARNED: don't forget double (()) 's for numpy operations and stacking"
   ]
  },
  {
   "cell_type": "code",
   "execution_count": 4,
   "metadata": {
    "collapsed": false
   },
   "outputs": [
    {
     "name": "stderr",
     "output_type": "stream",
     "text": [
      "/home/spencer/Apps/anaconda2/lib/python2.7/site-packages/matplotlib/font_manager.py:273: UserWarning: Matplotlib is building the font cache using fc-list. This may take a moment.\n",
      "  warnings.warn('Matplotlib is building the font cache using fc-list. This may take a moment.')\n"
     ]
    }
   ],
   "source": [
    "import pandas as pd\n",
    "import numpy as np\n",
    "import matplotlib.pyplot as plt\n",
    "import numpy.matlib as M\n",
    "from numpy.matlib import rand,zeros,ones,empty,eye\n"
   ]
  },
  {
   "cell_type": "code",
   "execution_count": null,
   "metadata": {
    "collapsed": true
   },
   "outputs": [],
   "source": [
    "# as array = matrix.A"
   ]
  },
  {
   "cell_type": "code",
   "execution_count": 8,
   "metadata": {
    "collapsed": false
   },
   "outputs": [
    {
     "data": {
      "text/plain": [
       "matrix([[ 7.54655784,  4.54809612,  3.79772067,  4.47507438,  5.02288419,\n",
       "          5.90900723,  5.45275181,  4.5450498 ,  5.02041455,  3.22430794],\n",
       "        [ 3.71433804,  4.76216968,  5.55653053,  4.35158229,  4.21558609,\n",
       "          6.58454706,  6.80198164,  5.38964217,  5.15278264,  3.97776978],\n",
       "        [ 5.41176448,  4.95109407,  5.17902588,  4.87382761,  3.0793082 ,\n",
       "          4.43380008,  5.68891412,  5.37265852,  5.59201007,  5.47279851],\n",
       "        [ 5.92023292,  5.10166088,  6.74347523,  4.38472996,  6.20355103,\n",
       "          4.94178648,  4.38125384,  2.91440779,  5.76567083,  4.20174503],\n",
       "        [ 3.61091049,  5.61538684,  2.63543173,  4.64542912,  4.34268658,\n",
       "          5.20734746,  4.81361461,  5.2223076 ,  5.6278885 ,  6.08936685],\n",
       "        [ 5.88143037,  5.0365629 ,  4.64729696,  4.17091958,  4.34154398,\n",
       "          3.08548285,  2.88015479,  4.02264214,  4.13589707,  3.9745363 ],\n",
       "        [ 5.31229534,  4.35244052,  5.20197319,  6.20995376,  4.29987505,\n",
       "          4.19703448,  3.41103159,  5.15186442,  6.76224715,  4.39056494],\n",
       "        [ 3.22084873,  5.65062811,  5.63933187,  4.344734  ,  5.64108429,\n",
       "          4.29209025,  6.20630901,  5.56143498,  5.10382645,  3.60997617],\n",
       "        [ 4.59670411,  6.6627997 ,  5.3610289 ,  3.23412891,  3.98618781,\n",
       "          4.25438026,  4.9887824 ,  3.35900776,  5.21606659,  6.33840729],\n",
       "        [ 7.69038723,  4.5891455 ,  5.1527176 ,  5.38297655,  4.83514405,\n",
       "          5.22384085,  5.99403475,  5.05586153,  4.7085787 ,  4.89431404]])"
      ]
     },
     "execution_count": 8,
     "metadata": {},
     "output_type": "execute_result"
    }
   ],
   "source": [
    "# Create a Sample Matrix 10 x 10 from mu + std*randn\n",
    "5+M.randn((10,10))*1\n"
   ]
  },
  {
   "cell_type": "code",
   "execution_count": 9,
   "metadata": {
    "collapsed": true
   },
   "outputs": [],
   "source": [
    "# One Loop\n",
    "\n",
    "# Print Loop number n\n",
    "\n",
    "# How are we permuting the matrix?\n",
    "# uniform, normally, etc\n",
    "\n",
    "# Save the matrix for inspection\n",
    "\n",
    "# Calculate Rankings and Save\n",
    "# save as ?? \n"
   ]
  },
  {
   "cell_type": "code",
   "execution_count": 9,
   "metadata": {
    "collapsed": false
   },
   "outputs": [],
   "source": [
    "# Create Column Array of Ones\n",
    "onemat = ones((10)).A.T\n",
    "# Create Array with Columns as 1s, 2s, 3s, etc\n",
    "smpat = np.hstack((onemat, 2*onemat, 3*onemat, 4*onemat, 5*onemat, 6*onemat, 7*onemat, 8*onemat, 9*onemat, 10*onemat))\n",
    "# Initialize results matrix\n",
    "results = zeros((10,10)).A"
   ]
  },
  {
   "cell_type": "code",
   "execution_count": 19,
   "metadata": {
    "collapsed": false,
    "scrolled": true
   },
   "outputs": [
    {
     "name": "stdout",
     "output_type": "stream",
     "text": [
      "CPU times: user 0 ns, sys: 0 ns, total: 0 ns\n",
      "Wall time: 4.05 µs\n"
     ]
    }
   ],
   "source": [
    "%time\n",
    "results = np.copy(smpat)\n",
    "N = 100\n",
    "# N randomizations (of master ranking), creating 10x10xN matrix\n",
    "# get results of kth simulation with results[:,:,k-1]\n",
    "# (Random Normal Permutation)\n",
    "for i in range(1,N):\n",
    "    cpy = np.copy(smpat)\n",
    "    # Permute\n",
    "    # If < 0 set to 0, if > 10 set to 10\n",
    "    for x in np.nditer(cpy, op_flags=['readwrite']):\n",
    "        # random samples = mu + sigma * randn\n",
    "        x[...] = x + M.randn(1,1)*2\n",
    "        if x>10: x[...] = 10\n",
    "        if x<0: x[...] = 0\n",
    "    results = np.dstack((results,cpy))\n"
   ]
  },
  {
   "cell_type": "code",
   "execution_count": null,
   "metadata": {
    "collapsed": true
   },
   "outputs": [],
   "source": []
  },
  {
   "cell_type": "code",
   "execution_count": 20,
   "metadata": {
    "collapsed": false,
    "scrolled": false
   },
   "outputs": [
    {
     "data": {
      "text/plain": [
       "(10, 10, 100)"
      ]
     },
     "execution_count": 20,
     "metadata": {},
     "output_type": "execute_result"
    }
   ],
   "source": [
    "results.shape"
   ]
  },
  {
   "cell_type": "code",
   "execution_count": 32,
   "metadata": {
    "collapsed": false
   },
   "outputs": [
    {
     "data": {
      "text/plain": [
       "array([[  1.,   2.,   3.,   4.,   5.,   6.,   7.,   8.,   9.,  10.],\n",
       "       [  1.,   2.,   3.,   4.,   5.,   6.,   7.,   8.,   9.,  10.],\n",
       "       [  1.,   2.,   3.,   4.,   5.,   6.,   7.,   8.,   9.,  10.],\n",
       "       [  1.,   2.,   3.,   4.,   5.,   6.,   7.,   8.,   9.,  10.],\n",
       "       [  1.,   2.,   3.,   4.,   5.,   6.,   7.,   8.,   9.,  10.],\n",
       "       [  1.,   2.,   3.,   4.,   5.,   6.,   7.,   8.,   9.,  10.],\n",
       "       [  1.,   2.,   3.,   4.,   5.,   6.,   7.,   8.,   9.,  10.],\n",
       "       [  1.,   2.,   3.,   4.,   5.,   6.,   7.,   8.,   9.,  10.],\n",
       "       [  1.,   2.,   3.,   4.,   5.,   6.,   7.,   8.,   9.,  10.],\n",
       "       [  1.,   2.,   3.,   4.,   5.,   6.,   7.,   8.,   9.,  10.]])"
      ]
     },
     "execution_count": 32,
     "metadata": {},
     "output_type": "execute_result"
    }
   ],
   "source": [
    "results[:,:,0] # Gives Resulting Matrix ()\n"
   ]
  },
  {
   "cell_type": "code",
   "execution_count": null,
   "metadata": {
    "collapsed": true
   },
   "outputs": [],
   "source": [
    "# TODO: if each site is a ROW, average across the rows for the final value\n"
   ]
  },
  {
   "cell_type": "code",
   "execution_count": 33,
   "metadata": {
    "collapsed": false
   },
   "outputs": [
    {
     "data": {
      "text/plain": [
       "5.5"
      ]
     },
     "execution_count": 33,
     "metadata": {},
     "output_type": "execute_result"
    }
   ],
   "source": [
    "results[:,:,0].mean()"
   ]
  },
  {
   "cell_type": "code",
   "execution_count": 35,
   "metadata": {
    "collapsed": false
   },
   "outputs": [
    {
     "data": {
      "text/plain": [
       "array([ 5.5,  5.5,  5.5,  5.5,  5.5,  5.5,  5.5,  5.5,  5.5,  5.5])"
      ]
     },
     "execution_count": 35,
     "metadata": {},
     "output_type": "execute_result"
    }
   ],
   "source": [
    "# Apply along axis=1 i.e. columns\n",
    "np.apply_along_axis(lambda x: x.mean(), 1, results[:,:,0])\n",
    "# now we have array of length = 10 with averages for each row"
   ]
  },
  {
   "cell_type": "code",
   "execution_count": 39,
   "metadata": {
    "collapsed": false
   },
   "outputs": [
    {
     "data": {
      "text/plain": [
       "array([ 1.13329094,  2.55189085,  2.65432935,  4.05155546,  4.88690972,\n",
       "        5.89680002,  7.07206782,  8.04852019,  8.67522853,  9.37974262])"
      ]
     },
     "execution_count": 39,
     "metadata": {},
     "output_type": "execute_result"
    }
   ],
   "source": [
    "# But if we want to just look at one site/row:\n",
    "# array of averages for row 1\n",
    "site1 = results[0,:,:]\n",
    "np.apply_along_axis(lambda x: x.mean(), 1, site1)"
   ]
  },
  {
   "cell_type": "code",
   "execution_count": null,
   "metadata": {
    "collapsed": true
   },
   "outputs": [],
   "source": []
  }
 ],
 "metadata": {
  "kernelspec": {
   "display_name": "Python [Root]",
   "language": "python",
   "name": "Python [Root]"
  },
  "language_info": {
   "codemirror_mode": {
    "name": "ipython",
    "version": 2
   },
   "file_extension": ".py",
   "mimetype": "text/x-python",
   "name": "python",
   "nbconvert_exporter": "python",
   "pygments_lexer": "ipython2",
   "version": "2.7.12"
  }
 },
 "nbformat": 4,
 "nbformat_minor": 0
}
