{
 "cells": [
  {
   "cell_type": "code",
   "execution_count": 1,
   "metadata": {
    "collapsed": true
   },
   "outputs": [],
   "source": [
    "# Added to github on 9/5"
   ]
  },
  {
   "cell_type": "code",
   "execution_count": 2,
   "metadata": {
    "collapsed": true
   },
   "outputs": [],
   "source": [
    "# Shortcomings/Assumptions: higher values realistically would not have the same permutation distribution as middle ones, \n",
    "# i.e. it would take dramatic changes realistically esp. politically to move from a 9 to a 10. Would be like California changing from \n",
    "# 50% to 60% renewable"
   ]
  },
  {
   "cell_type": "code",
   "execution_count": 3,
   "metadata": {
    "collapsed": false
   },
   "outputs": [
    {
     "ename": "NameError",
     "evalue": "name 'np' is not defined",
     "output_type": "error",
     "traceback": [
      "\u001b[1;31m---------------------------------------------------------------------------\u001b[0m",
      "\u001b[1;31mNameError\u001b[0m                                 Traceback (most recent call last)",
      "\u001b[1;32m<ipython-input-3-339ecb22a5c4>\u001b[0m in \u001b[0;36m<module>\u001b[1;34m()\u001b[0m\n\u001b[1;32m----> 1\u001b[1;33m \u001b[1;32mfor\u001b[0m \u001b[0mi\u001b[0m \u001b[1;32min\u001b[0m \u001b[0mnp\u001b[0m\u001b[1;33m.\u001b[0m\u001b[0mnditer\u001b[0m\u001b[1;33m(\u001b[0m\u001b[0msmpat\u001b[0m\u001b[1;33m)\u001b[0m\u001b[1;33m:\u001b[0m\u001b[1;33m\u001b[0m\u001b[0m\n\u001b[0m\u001b[0;32m      2\u001b[0m     \u001b[1;32mprint\u001b[0m \u001b[0mi\u001b[0m\u001b[1;33m\u001b[0m\u001b[0m\n\u001b[0;32m      3\u001b[0m \u001b[1;33m\u001b[0m\u001b[0m\n\u001b[0;32m      4\u001b[0m \u001b[1;31m# LEARNED: don't forget double (()) 's for numpy operations and stacking\u001b[0m\u001b[1;33m\u001b[0m\u001b[1;33m\u001b[0m\u001b[0m\n",
      "\u001b[1;31mNameError\u001b[0m: name 'np' is not defined"
     ]
    }
   ],
   "source": [
    "for i in np.nditer(smpat):\n",
    "    print i\n",
    "    \n",
    "# LEARNED: don't forget double (()) 's for numpy operations and stacking"
   ]
  },
  {
   "cell_type": "code",
   "execution_count": 5,
   "metadata": {
    "collapsed": true
   },
   "outputs": [],
   "source": [
    "import pandas as pd\n",
    "import numpy as np\n",
    "import matplotlib.pyplot as plt\n",
    "import numpy.matlib as M\n",
    "from numpy.matlib import rand,zeros,ones,empty,eye\n",
    "np.set_printoptions(precision=3)"
   ]
  },
  {
   "cell_type": "code",
   "execution_count": 10,
   "metadata": {
    "collapsed": false
   },
   "outputs": [
    {
     "name": "stdout",
     "output_type": "stream",
     "text": [
      "CPU times: user 0 ns, sys: 0 ns, total: 0 ns\n",
      "Wall time: 3.1 µs\n"
     ]
    }
   ],
   "source": [
    "# as array = matrix.A\n",
    "\n",
    "# Create a Sample Matrix 10 x 10 from mu + std*randn\n",
    "5+M.randn((10,10))*1\n",
    "\n",
    "\n",
    "# One Loop\n",
    "\n",
    "# Print Loop number n\n",
    "\n",
    "# How are we permuting the matrix?\n",
    "# uniform, normally, etc\n",
    "\n",
    "# Save the matrix for inspection\n",
    "\n",
    "# Calculate Rankings and Save\n",
    "# save as ?? \n",
    "\n",
    "\n",
    "# Create Column Array of Ones\n",
    "onemat = ones((10)).A.T\n",
    "# Create Array with Columns as 1s, 2s, 3s, etc\n",
    "smpat = np.hstack((onemat, 2*onemat, 3*onemat, 4*onemat, 5*onemat, 6*onemat, 7*onemat, 8*onemat, 9*onemat, 10*onemat))\n",
    "# Initialize results matrix\n",
    "results = zeros((10,10)).A\n",
    "\n",
    "%time\n",
    "results = np.copy(smpat)\n",
    "N = 101\n",
    "# N randomizations (of master ranking), creating 10x10xN matrix\n",
    "# get results of kth simulation with results[:,:,k-1]\n",
    "# (Random Normal Permutation)\n",
    "for i in range(0,N):\n",
    "    cpy = np.copy(smpat)\n",
    "    # Permute\n",
    "    # If < 0 set to 0, if > 10 set to 10\n",
    "    for x in np.nditer(cpy, op_flags=['readwrite']):\n",
    "        # random samples = mu + sigma * randn\n",
    "        x[...] = x + M.randn(1,1)*.5\n",
    "        if x>10: x[...] = 10\n",
    "        if x<0: x[...] = 0\n",
    "    results = np.dstack((results,cpy))\n",
    "\n",
    "\n",
    "# Gives Resulting Matrix ()\n",
    "results.shape\n",
    "results[:,:,0] \n",
    "\n",
    "\n",
    "# TODO: if each site is a ROW, average across the rows for the final value\n",
    "\n",
    "\n",
    "results[:,:,0].mean()\n",
    "# Apply along axis=1 i.e. columns\n",
    "np.apply_along_axis(lambda x: x.mean(), 1, results[:,:,0])\n",
    "# now we have array of length = 10 with averages for each row\n",
    "\n",
    "# But if we want to just look at one site/row:\n",
    "# array of averages for row 1\n",
    "site1 = results[0,:,:] # 10x100 array\n",
    "# Mean along cols gives average score on \"features\" (not desirable)\n",
    "np.apply_along_axis(lambda x: x.mean(), 1, site1)\n",
    "# Mean along rows gives average total score for each simulation (sort of desirable)\n",
    "site1scores = np.apply_along_axis(lambda x: x.mean(), 0, site1)\n",
    "# First, plot the change in score over simulations"
   ]
  },
  {
   "cell_type": "markdown",
   "metadata": {},
   "source": [
    "# USE"
   ]
  },
  {
   "cell_type": "code",
   "execution_count": 99,
   "metadata": {
    "collapsed": false
   },
   "outputs": [
    {
     "name": "stdout",
     "output_type": "stream",
     "text": [
      "CPU times: user 0 ns, sys: 0 ns, total: 0 ns\n",
      "Wall time: 4.05 µs\n"
     ]
    }
   ],
   "source": [
    "# Create Column Array of Ones\n",
    "onemat = ones((10)).A.T\n",
    "# Create Array with Columns as 1s, 2s, 3s, etc\n",
    "smpat = np.hstack((onemat, 2*onemat, 3*onemat, 4*onemat, 5*onemat, 6*onemat, 7*onemat, 8*onemat, 9*onemat, 10*onemat))\n",
    "# Initialize results matrix\n",
    "results = zeros((10,10)).A\n",
    "\n",
    "%time\n",
    "results = np.copy(smpat)\n",
    "N = 101\n",
    "# N randomizations (of master ranking), creating 10x10xN matrix\n",
    "# get results of kth simulation with results[:,:,k-1]\n",
    "# (Random Normal Permutation)\n",
    "for i in range(0,N):\n",
    "    cpy = np.copy(smpat)\n",
    "    # Permute\n",
    "    # If < 0 set to 0, if > 10 set to 10\n",
    "    for x in np.nditer(cpy, op_flags=['readwrite']):\n",
    "        # random samples = mu + sigma * randn\n",
    "        x[...] = x + M.randn(1,1)*.5 # << TODO Apply Different Distribution (+/- 0.5) \n",
    "        if x>10: x[...] = 10\n",
    "        if x<0: x[...] = 0\n",
    "    results = np.dstack((results,cpy))\n"
   ]
  },
  {
   "cell_type": "code",
   "execution_count": 102,
   "metadata": {
    "collapsed": false,
    "scrolled": true
   },
   "outputs": [],
   "source": [
    "# Use List Iteration then combine, KILLER\n",
    "ll = []\n",
    "for i in range(0,N):\n",
    "    ll.append(pd.Series(data=np.apply_along_axis(lambda x: x.mean(), 1, results[:,:,i]), index = ['Site ' + str(k) for k in range(1,results.shape[0]+1)]).rank())\n",
    "ranks = pd.DataFrame(ll) # df.boxplot() does distr of values w/i ea column\n",
    "# TODO: calculate scores by not just taking the 'mean', weighted average? (lambda function)\n",
    "\n",
    "for i in range(0,N):\n",
    "    ll.append(pd.Series(data=np.apply_along_axis(lambda x: x.mean(), 1, results[:,:,i]), index = ['Site ' + str(k) for k in range(1,results.shape[0]+1)]))\n",
    "scores = pd.DataFrame(ll)\n",
    "    \n",
    "\n",
    "\n"
   ]
  },
  {
   "cell_type": "markdown",
   "metadata": {},
   "source": [
    "## Plotting the above"
   ]
  },
  {
   "cell_type": "code",
   "execution_count": null,
   "metadata": {
    "collapsed": false
   },
   "outputs": [
    {
     "name": "stderr",
     "output_type": "stream",
     "text": [
      "/home/spencer/Apps/anaconda2/lib/python2.7/site-packages/ipykernel/__main__.py:2: FutureWarning: \n",
      "The default value for 'return_type' will change to 'axes' in a future release.\n",
      " To use the future behavior now, set return_type='axes'.\n",
      " To keep the previous behavior and silence this warning, set return_type='dict'.\n",
      "  from ipykernel import kernelapp as app\n"
     ]
    }
   ],
   "source": [
    "# Plot as 10 historgrams of distribution of SCORES \n",
    "scores.boxplot()\n",
    "plt.show()"
   ]
  },
  {
   "cell_type": "code",
   "execution_count": 101,
   "metadata": {
    "collapsed": false
   },
   "outputs": [
    {
     "name": "stderr",
     "output_type": "stream",
     "text": [
      "/home/spencer/Apps/anaconda2/lib/python2.7/site-packages/ipykernel/__main__.py:2: FutureWarning: \n",
      "The default value for 'return_type' will change to 'axes' in a future release.\n",
      " To use the future behavior now, set return_type='axes'.\n",
      " To keep the previous behavior and silence this warning, set return_type='dict'.\n",
      "  from ipykernel import kernelapp as app\n"
     ]
    }
   ],
   "source": [
    "# Plot as 10 histograms of distribution of ranks (hist)\n",
    "series.boxplot()\n",
    "plt.show()\n"
   ]
  },
  {
   "cell_type": "code",
   "execution_count": null,
   "metadata": {
    "collapsed": true
   },
   "outputs": [],
   "source": []
  },
  {
   "cell_type": "code",
   "execution_count": null,
   "metadata": {
    "collapsed": true
   },
   "outputs": [],
   "source": []
  },
  {
   "cell_type": "code",
   "execution_count": null,
   "metadata": {
    "collapsed": true
   },
   "outputs": [],
   "source": []
  },
  {
   "cell_type": "markdown",
   "metadata": {},
   "source": [
    "# OTHER"
   ]
  },
  {
   "cell_type": "code",
   "execution_count": 14,
   "metadata": {
    "collapsed": false
   },
   "outputs": [],
   "source": [
    "k = range(0,100)"
   ]
  },
  {
   "cell_type": "code",
   "execution_count": 18,
   "metadata": {
    "collapsed": false
   },
   "outputs": [],
   "source": [
    "plt.plot(k, site1scores)\n",
    "plt.show()\n",
    "# But really we want the distribution of scores"
   ]
  },
  {
   "cell_type": "code",
   "execution_count": 22,
   "metadata": {
    "collapsed": false
   },
   "outputs": [],
   "source": [
    "plt.boxplot(site1scores)\n",
    "plt.show()\n",
    "# But we really want the ranking\n"
   ]
  },
  {
   "cell_type": "code",
   "execution_count": 23,
   "metadata": {
    "collapsed": false
   },
   "outputs": [
    {
     "data": {
      "text/plain": [
       "array([ 1.197,  2.163,  2.812,  4.088,  5.076,  5.752,  6.883,  7.797,\n",
       "        8.739,  9.14 ])"
      ]
     },
     "execution_count": 23,
     "metadata": {},
     "output_type": "execute_result"
    }
   ],
   "source": [
    "np.apply_along_axis(lambda x: x.mean(), 1, site1)"
   ]
  },
  {
   "cell_type": "code",
   "execution_count": 55,
   "metadata": {
    "collapsed": false
   },
   "outputs": [],
   "source": [
    "# Let's use one to get the ranking of the average scores\n",
    "scores1 = np.apply_along_axis(lambda x: x.mean(), 1, results[:,:,1])\n",
    "\n",
    "# need to index or label as sites\n",
    "series1 = pd.Series(data= scores1, index = ['site' + str(i) for i in range(1,len(scores1)+1)])"
   ]
  },
  {
   "cell_type": "code",
   "execution_count": 57,
   "metadata": {
    "collapsed": true
   },
   "outputs": [],
   "source": [
    "scores2 = np.apply_along_axis(lambda x: x.mean(), 1, results[:,:,2])\n",
    "series2 = pd.Series(data= scores2, index = ['site' + str(i) for i in range(1,len(scores2)+1)])"
   ]
  },
  {
   "cell_type": "code",
   "execution_count": 63,
   "metadata": {
    "collapsed": false
   },
   "outputs": [
    {
     "data": {
      "text/html": [
       "<div>\n",
       "<table border=\"1\" class=\"dataframe\">\n",
       "  <thead>\n",
       "    <tr style=\"text-align: right;\">\n",
       "      <th></th>\n",
       "      <th>0</th>\n",
       "      <th>1</th>\n",
       "    </tr>\n",
       "  </thead>\n",
       "  <tbody>\n",
       "    <tr>\n",
       "      <th>site1</th>\n",
       "      <td>2.0</td>\n",
       "      <td>1.0</td>\n",
       "    </tr>\n",
       "    <tr>\n",
       "      <th>site2</th>\n",
       "      <td>4.0</td>\n",
       "      <td>9.0</td>\n",
       "    </tr>\n",
       "    <tr>\n",
       "      <th>site3</th>\n",
       "      <td>1.0</td>\n",
       "      <td>8.0</td>\n",
       "    </tr>\n",
       "    <tr>\n",
       "      <th>site4</th>\n",
       "      <td>9.0</td>\n",
       "      <td>3.0</td>\n",
       "    </tr>\n",
       "    <tr>\n",
       "      <th>site5</th>\n",
       "      <td>7.0</td>\n",
       "      <td>6.0</td>\n",
       "    </tr>\n",
       "    <tr>\n",
       "      <th>site6</th>\n",
       "      <td>3.0</td>\n",
       "      <td>2.0</td>\n",
       "    </tr>\n",
       "    <tr>\n",
       "      <th>site7</th>\n",
       "      <td>10.0</td>\n",
       "      <td>5.0</td>\n",
       "    </tr>\n",
       "    <tr>\n",
       "      <th>site8</th>\n",
       "      <td>5.0</td>\n",
       "      <td>7.0</td>\n",
       "    </tr>\n",
       "    <tr>\n",
       "      <th>site9</th>\n",
       "      <td>6.0</td>\n",
       "      <td>4.0</td>\n",
       "    </tr>\n",
       "    <tr>\n",
       "      <th>site10</th>\n",
       "      <td>8.0</td>\n",
       "      <td>10.0</td>\n",
       "    </tr>\n",
       "  </tbody>\n",
       "</table>\n",
       "</div>"
      ],
      "text/plain": [
       "           0     1\n",
       "site1    2.0   1.0\n",
       "site2    4.0   9.0\n",
       "site3    1.0   8.0\n",
       "site4    9.0   3.0\n",
       "site5    7.0   6.0\n",
       "site6    3.0   2.0\n",
       "site7   10.0   5.0\n",
       "site8    5.0   7.0\n",
       "site9    6.0   4.0\n",
       "site10   8.0  10.0"
      ]
     },
     "execution_count": 63,
     "metadata": {},
     "output_type": "execute_result"
    }
   ],
   "source": [
    "# Append (hcat) series2 to series1 DIDNT NEED\n",
    "pd.concat([series1.rank(), series2.rank()], axis=1)"
   ]
  },
  {
   "cell_type": "code",
   "execution_count": null,
   "metadata": {
    "collapsed": true
   },
   "outputs": [],
   "source": []
  },
  {
   "cell_type": "code",
   "execution_count": 67,
   "metadata": {
    "collapsed": false
   },
   "outputs": [
    {
     "data": {
      "text/plain": [
       "10"
      ]
     },
     "execution_count": 67,
     "metadata": {},
     "output_type": "execute_result"
    }
   ],
   "source": [
    "results.shape[0]"
   ]
  },
  {
   "cell_type": "code",
   "execution_count": 49,
   "metadata": {
    "collapsed": false
   },
   "outputs": [],
   "source": [
    "# The 'score' for each of N simulation \n",
    "results_avg = np.apply_along_axis(lambda x: x.mean(), 1, results)"
   ]
  }
 ],
 "metadata": {
  "kernelspec": {
   "display_name": "Python [Root]",
   "language": "python",
   "name": "Python [Root]"
  },
  "language_info": {
   "codemirror_mode": {
    "name": "ipython",
    "version": 2
   },
   "file_extension": ".py",
   "mimetype": "text/x-python",
   "name": "python",
   "nbconvert_exporter": "python",
   "pygments_lexer": "ipython2",
   "version": "2.7.12"
  }
 },
 "nbformat": 4,
 "nbformat_minor": 0
}
